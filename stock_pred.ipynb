{
  "nbformat": 4,
  "nbformat_minor": 0,
  "metadata": {
    "colab": {
      "name": "stock_pred.ipynb",
      "provenance": [],
      "collapsed_sections": [],
      "authorship_tag": "ABX9TyPz+agsrMSIrAK7yBQKW8nu",
      "include_colab_link": true
    },
    "kernelspec": {
      "name": "python3",
      "display_name": "Python 3"
    }
  },
  "cells": [
    {
      "cell_type": "markdown",
      "metadata": {
        "id": "view-in-github",
        "colab_type": "text"
      },
      "source": [
        "<a href=\"https://colab.research.google.com/github/iamtatha/Data_Science/blob/master/stock_pred.ipynb\" target=\"_parent\"><img src=\"https://colab.research.google.com/assets/colab-badge.svg\" alt=\"Open In Colab\"/></a>"
      ]
    },
    {
      "cell_type": "code",
      "metadata": {
        "id": "jkndTwKj1ujX",
        "colab_type": "code",
        "colab": {}
      },
      "source": [
        "def price(df):\n",
        "  # importing needed libraries\n",
        "  import math\n",
        "  import pandas_datareader as web\n",
        "  import numpy as np\n",
        "  import pandas as pd\n",
        "  from sklearn.preprocessing import MinMaxScaler\n",
        "  from keras.models import Sequential\n",
        "  from keras.layers import  LSTM\n",
        "  from keras.layers import Dense\n",
        "  import matplotlib.pyplot as plt\n",
        "  plt.style.use('dark_background')\n",
        "\n",
        "  df=df.dropna()\n",
        "\n",
        "  # modify the data\n",
        "  data = df.filter(['Close'])\n",
        "  dataset = data.values\n",
        "  training_data_len = math.ceil(len(dataset)*0.8)\n",
        "  print(training_data_len)\n",
        "  scaler = MinMaxScaler(feature_range=(0,1))\n",
        "  scaled_data = scaler.fit_transform(dataset)\n",
        "  scaled_data\n",
        "  train_data = scaled_data[0:training_data_len, : ]\n",
        "  x_train = []\n",
        "  y_train = []\n",
        "\n",
        "  input_days = 75\n",
        "  pred_day = 0\n",
        "\n",
        "  for i in range( 1000+ input_days ,len(train_data) - pred_day):\n",
        "    x_train.append(train_data[ i - input_days : i , 0 ])\n",
        "    y_train.append(train_data[ i + pred_day , 0 ])\n",
        "\n",
        "  x_train = np.array(x_train)\n",
        "  y_train = np.array(y_train)\n",
        "  x_train = np.reshape(x_train , ( x_train.shape[0] , x_train.shape[1] , 1 ))\n",
        "\n",
        "  from keras.layers.advanced_activations import LeakyReLU\n",
        "  model = Sequential()\n",
        "  model.add( LSTM( 70, return_sequences = True, input_shape=(x_train.shape[1], 1 )) )\n",
        "  model.add( LSTM( 70, return_sequences = False ) )\n",
        "  model.add( Dense(30) )\n",
        "  model.add( Dense(1) )\n",
        "  #model.add(Dense(800,input_shape=(num_inputs,)))\n",
        "  #model.add(LeakyReLU(alpha=0.1))\n",
        "  model.compile(  loss='mean_squared_error', optimizer='adam' )\n",
        "  model.fit(x_train, y_train, batch_size=1, epochs=1)\n",
        "\n",
        "  test_data = scaled_data[training_data_len - input_days: , :]\n",
        "  x_test =[]\n",
        "  y_test = dataset[training_data_len: , :]\n",
        "  for i in range( input_days , len(test_data)):\n",
        "    x_test.append(test_data[i - input_days :i, 0])\n",
        "  x_test = np.array(x_test)\n",
        "  x_test =np.reshape( x_test , ( x_test.shape[0], x_test.shape[1] ,1 ))\n",
        "\n",
        "  days = int(input())\n",
        "\n",
        "  predicted = []\n",
        "\n",
        "  for i in range(days-len(dataset)):\n",
        "    x = dataset[-input_days+i , :]\n",
        "    if i>0:\n",
        "      x.append(pred)\n",
        "    pred = model.predict(x)\n",
        "    #pred = scaler.inverse_transform(pred)\n",
        "    predicted.append(pred)\n",
        "\n",
        "  print(predicted)\n"
      ],
      "execution_count": 0,
      "outputs": []
    },
    {
      "cell_type": "code",
      "metadata": {
        "id": "FwhxsfsPDOhl",
        "colab_type": "code",
        "colab": {
          "base_uri": "https://localhost:8080/",
          "height": 121
        },
        "outputId": "bc25eea2-2bbc-4c87-cebc-bd82a3b4f1ee"
      },
      "source": [
        "from google.colab import drive \n",
        "drive.mount('/content/gdrive')"
      ],
      "execution_count": 2,
      "outputs": [
        {
          "output_type": "stream",
          "text": [
            "Go to this URL in a browser: https://accounts.google.com/o/oauth2/auth?client_id=947318989803-6bn6qk8qdgf4n4g3pfee6491hc0brc4i.apps.googleusercontent.com&redirect_uri=urn%3aietf%3awg%3aoauth%3a2.0%3aoob&response_type=code&scope=email%20https%3a%2f%2fwww.googleapis.com%2fauth%2fdocs.test%20https%3a%2f%2fwww.googleapis.com%2fauth%2fdrive%20https%3a%2f%2fwww.googleapis.com%2fauth%2fdrive.photos.readonly%20https%3a%2f%2fwww.googleapis.com%2fauth%2fpeopleapi.readonly\n",
            "\n",
            "Enter your authorization code:\n",
            "··········\n",
            "Mounted at /content/gdrive\n"
          ],
          "name": "stdout"
        }
      ]
    },
    {
      "cell_type": "code",
      "metadata": {
        "id": "PyCb6-gpDWyP",
        "colab_type": "code",
        "colab": {}
      },
      "source": [
        "import pandas as pd \n",
        "df = pd.read_csv('gdrive/My Drive/Stocks/TCS/TCS.csv')"
      ],
      "execution_count": 0,
      "outputs": []
    },
    {
      "cell_type": "code",
      "metadata": {
        "id": "nrxzNX-oDfSN",
        "colab_type": "code",
        "colab": {
          "base_uri": "https://localhost:8080/",
          "height": 101
        },
        "outputId": "a6de5cc5-d302-4ff1-e608-e492b33c830f"
      },
      "source": [
        "# importing needed libraries\n",
        "import math\n",
        "import pandas_datareader as web\n",
        "import numpy as np\n",
        "import pandas as pd\n",
        "from sklearn.preprocessing import MinMaxScaler\n",
        "from keras.models import Sequential\n",
        "from keras.layers import  LSTM\n",
        "from keras.layers import Dense\n",
        "import matplotlib.pyplot as plt\n",
        "plt.style.use('dark_background')\n",
        "\n",
        "df=df.dropna()\n",
        "\n",
        "# modify the data\n",
        "data = df.filter(['Close'])\n",
        "dataset = data.values\n",
        "training_data_len = math.ceil(len(dataset)*0.8)\n",
        "print(training_data_len)\n",
        "scaler = MinMaxScaler(feature_range=(0,1))\n",
        "scaled_data = scaler.fit_transform(dataset)\n",
        "scaled_data\n",
        "train_data = scaled_data[0:training_data_len, : ]\n",
        "x_train = []\n",
        "y_train = []\n",
        "\n",
        "input_days = 75\n",
        "pred_day = 0\n",
        "\n",
        "for i in range( 1000+ input_days ,len(train_data) - pred_day):\n",
        "  x_train.append(train_data[ i - input_days : i , 0 ])\n",
        "  y_train.append(train_data[ i + pred_day , 0 ])\n",
        "\n",
        "x_train = np.array(x_train)\n",
        "y_train = np.array(y_train)\n",
        "x_train = np.reshape(x_train , ( x_train.shape[0] , x_train.shape[1] , 1 ))\n",
        "\n",
        "from keras.layers.advanced_activations import LeakyReLU\n",
        "model = Sequential()\n",
        "model.add( LSTM( 70, return_sequences = True, input_shape=(x_train.shape[1], 1 )) )\n",
        "model.add( LSTM( 70, return_sequences = False ) )\n",
        "model.add( Dense(30) )\n",
        "model.add( Dense(1) )\n",
        "#model.add(Dense(800,input_shape=(num_inputs,)))\n",
        "#model.add(LeakyReLU(alpha=0.1))\n",
        "model.compile(  loss='mean_squared_error', optimizer='adam' )\n",
        "model.fit(x_train, y_train, batch_size=1, epochs=2)\n",
        "\n",
        "test_data = scaled_data[training_data_len - input_days: , :]\n",
        "x_test =[]\n",
        "y_test = dataset[training_data_len: , :]\n",
        "for i in range( input_days , len(test_data)):\n",
        "  x_test.append(test_data[i - input_days :i, 0])\n",
        "x_test = np.array(x_test)\n",
        "x_test =np.reshape( x_test , ( x_test.shape[0], x_test.shape[1] ,1 ))\n",
        "\n"
      ],
      "execution_count": 5,
      "outputs": [
        {
          "output_type": "stream",
          "text": [
            "3108\n",
            "Epoch 1/2\n",
            "2033/2033 [==============================] - 108s 53ms/step - loss: 7.3969e-04\n",
            "Epoch 2/2\n",
            "2033/2033 [==============================] - 104s 51ms/step - loss: 2.6898e-04\n"
          ],
          "name": "stdout"
        }
      ]
    },
    {
      "cell_type": "code",
      "metadata": {
        "id": "acGba9gQDiNT",
        "colab_type": "code",
        "colab": {
          "base_uri": "https://localhost:8080/",
          "height": 1000
        },
        "outputId": "a70a2766-9e0f-46a9-89c8-833ace2a103d"
      },
      "source": [
        "#days = int(input())\n",
        "days = 3894\n",
        "predicted = []\n",
        "print(dataset[-input_days: , :])\n",
        "\n",
        "for i in range(days-len(dataset)):\n",
        "  x = dataset[-input_days+i: , :]\n",
        "  #print(len(x))\n",
        "  #print(x)\n",
        "  if i>0:\n",
        "    #print(len(x))\n",
        "    x = list(x)+predicted\n",
        "    #x.append(pred[0])\n",
        "    #print(len(x),pred[0])\n",
        "  x_test = np.array(x)\n",
        "  #print(x_test.shape[0])\n",
        "  x_test =np.reshape( x_test , ( x_test.shape[1], x_test.shape[0] ,1 ))\n",
        "  #print(x_test.shape)\n",
        "  pred = model.predict(x_test)\n",
        "  print(pred)\n",
        "  #pred = scaler.inverse_transform(pred)\n",
        "  predicted.append(pred)\n",
        "\n",
        "print(predicted)\n"
      ],
      "execution_count": 39,
      "outputs": [
        {
          "output_type": "stream",
          "text": [
            "[[2184.199951]\n",
            " [2203.25    ]\n",
            " [2215.75    ]\n",
            " [2196.350098]\n",
            " [2156.800049]\n",
            " [2115.350098]\n",
            " [2156.149902]\n",
            " [2123.600098]\n",
            " [2105.5     ]\n",
            " [2000.150024]\n",
            " [2001.300049]\n",
            " [2036.199951]\n",
            " [2083.199951]\n",
            " [2125.050049]\n",
            " [2116.449951]\n",
            " [1972.349976]\n",
            " [1953.699951]\n",
            " [1769.849976]\n",
            " [1806.300049]\n",
            " [1696.400024]\n",
            " [1658.      ]\n",
            " [1654.400024]\n",
            " [1636.349976]\n",
            " [1797.449951]\n",
            " [1669.699951]\n",
            " [1703.150024]\n",
            " [1750.300049]\n",
            " [1790.949951]\n",
            " [1824.5     ]\n",
            " [1778.5     ]\n",
            " [1826.099976]\n",
            " [1708.75    ]\n",
            " [1654.199951]\n",
            " [1775.199951]\n",
            " [1705.449951]\n",
            " [1766.150024]\n",
            " [1759.25    ]\n",
            " [1735.150024]\n",
            " [1716.050049]\n",
            " [1806.199951]\n",
            " [1818.650024]\n",
            " [1737.650024]\n",
            " [1769.5     ]\n",
            " [1878.25    ]\n",
            " [1818.550049]\n",
            " [1836.599976]\n",
            " [1859.050049]\n",
            " [1905.650024]\n",
            " [2014.449951]\n",
            " [1930.449951]\n",
            " [1932.75    ]\n",
            " [1903.599976]\n",
            " [1891.650024]\n",
            " [1893.400024]\n",
            " [1935.300049]\n",
            " [1949.5     ]\n",
            " [1949.650024]\n",
            " [1902.349976]\n",
            " [1892.900024]\n",
            " [1945.599976]\n",
            " [1948.650024]\n",
            " [1953.599976]\n",
            " [1991.199951]\n",
            " [2020.349976]\n",
            " [1943.      ]\n",
            " [2005.300049]\n",
            " [2004.300049]\n",
            " [1972.349976]\n",
            " [2045.25    ]\n",
            " [2047.150024]\n",
            " [2046.150024]\n",
            " [2091.550049]\n",
            " [2048.25    ]\n",
            " [2071.75    ]\n",
            " [2072.050049]]\n",
            "[[4.8211975]]\n",
            "[[4.301313]]\n",
            "[[4.066998]]\n",
            "[[3.891535]]\n",
            "[[3.7648766]]\n",
            "[[3.6741605]]\n",
            "[[3.610642]]\n",
            "[[3.5673661]]\n",
            "[[3.534344]]\n",
            "[[3.4874744]]\n",
            "[array([[4.8211975]], dtype=float32), array([[4.301313]], dtype=float32), array([[4.066998]], dtype=float32), array([[3.891535]], dtype=float32), array([[3.7648766]], dtype=float32), array([[3.6741605]], dtype=float32), array([[3.610642]], dtype=float32), array([[3.5673661]], dtype=float32), array([[3.534344]], dtype=float32), array([[3.4874744]], dtype=float32)]\n"
          ],
          "name": "stdout"
        }
      ]
    },
    {
      "cell_type": "code",
      "metadata": {
        "id": "FSAkyAY5IbJX",
        "colab_type": "code",
        "colab": {
          "base_uri": "https://localhost:8080/",
          "height": 324
        },
        "outputId": "c66b3cc9-96dd-40b9-b900-1c9f4d69e778"
      },
      "source": [
        "pred = scaler.inverse_transform(predicted)"
      ],
      "execution_count": 31,
      "outputs": [
        {
          "output_type": "error",
          "ename": "ValueError",
          "evalue": "ignored",
          "traceback": [
            "\u001b[0;31m---------------------------------------------------------------------------\u001b[0m",
            "\u001b[0;31mValueError\u001b[0m                                Traceback (most recent call last)",
            "\u001b[0;32m<ipython-input-31-b6d880ad32bd>\u001b[0m in \u001b[0;36m<module>\u001b[0;34m()\u001b[0m\n\u001b[0;32m----> 1\u001b[0;31m \u001b[0mpred\u001b[0m \u001b[0;34m=\u001b[0m \u001b[0mscaler\u001b[0m\u001b[0;34m.\u001b[0m\u001b[0minverse_transform\u001b[0m\u001b[0;34m(\u001b[0m\u001b[0mpredicted\u001b[0m\u001b[0;34m)\u001b[0m\u001b[0;34m\u001b[0m\u001b[0;34m\u001b[0m\u001b[0m\n\u001b[0m",
            "\u001b[0;32m/usr/local/lib/python3.6/dist-packages/sklearn/preprocessing/_data.py\u001b[0m in \u001b[0;36minverse_transform\u001b[0;34m(self, X)\u001b[0m\n\u001b[1;32m    432\u001b[0m \u001b[0;34m\u001b[0m\u001b[0m\n\u001b[1;32m    433\u001b[0m         X = check_array(X, copy=self.copy, dtype=FLOAT_DTYPES,\n\u001b[0;32m--> 434\u001b[0;31m                         force_all_finite=\"allow-nan\")\n\u001b[0m\u001b[1;32m    435\u001b[0m \u001b[0;34m\u001b[0m\u001b[0m\n\u001b[1;32m    436\u001b[0m         \u001b[0mX\u001b[0m \u001b[0;34m-=\u001b[0m \u001b[0mself\u001b[0m\u001b[0;34m.\u001b[0m\u001b[0mmin_\u001b[0m\u001b[0;34m\u001b[0m\u001b[0;34m\u001b[0m\u001b[0m\n",
            "\u001b[0;32m/usr/local/lib/python3.6/dist-packages/sklearn/utils/validation.py\u001b[0m in \u001b[0;36mcheck_array\u001b[0;34m(array, accept_sparse, accept_large_sparse, dtype, order, copy, force_all_finite, ensure_2d, allow_nd, ensure_min_samples, ensure_min_features, warn_on_dtype, estimator)\u001b[0m\n\u001b[1;32m    572\u001b[0m         \u001b[0;32mif\u001b[0m \u001b[0;32mnot\u001b[0m \u001b[0mallow_nd\u001b[0m \u001b[0;32mand\u001b[0m \u001b[0marray\u001b[0m\u001b[0;34m.\u001b[0m\u001b[0mndim\u001b[0m \u001b[0;34m>=\u001b[0m \u001b[0;36m3\u001b[0m\u001b[0;34m:\u001b[0m\u001b[0;34m\u001b[0m\u001b[0;34m\u001b[0m\u001b[0m\n\u001b[1;32m    573\u001b[0m             raise ValueError(\"Found array with dim %d. %s expected <= 2.\"\n\u001b[0;32m--> 574\u001b[0;31m                              % (array.ndim, estimator_name))\n\u001b[0m\u001b[1;32m    575\u001b[0m \u001b[0;34m\u001b[0m\u001b[0m\n\u001b[1;32m    576\u001b[0m         \u001b[0;32mif\u001b[0m \u001b[0mforce_all_finite\u001b[0m\u001b[0;34m:\u001b[0m\u001b[0;34m\u001b[0m\u001b[0;34m\u001b[0m\u001b[0m\n",
            "\u001b[0;31mValueError\u001b[0m: Found array with dim 3. Estimator expected <= 2."
          ]
        }
      ]
    },
    {
      "cell_type": "code",
      "metadata": {
        "id": "UwR-ZWDnIhGB",
        "colab_type": "code",
        "colab": {}
      },
      "source": [
        "pred = []\n",
        "for i in predicted:\n",
        "  pred.append(i[0])"
      ],
      "execution_count": 0,
      "outputs": []
    },
    {
      "cell_type": "code",
      "metadata": {
        "id": "58xLQAvOIpd8",
        "colab_type": "code",
        "colab": {
          "base_uri": "https://localhost:8080/",
          "height": 185
        },
        "outputId": "822d41a7-fb17-4ce7-9d67-1807218f162c"
      },
      "source": [
        "pred"
      ],
      "execution_count": 33,
      "outputs": [
        {
          "output_type": "execute_result",
          "data": {
            "text/plain": [
              "[array([4.8211975], dtype=float32),\n",
              " array([4.301313], dtype=float32),\n",
              " array([4.066998], dtype=float32),\n",
              " array([3.891535], dtype=float32),\n",
              " array([3.7648766], dtype=float32),\n",
              " array([3.6741605], dtype=float32),\n",
              " array([3.610642], dtype=float32),\n",
              " array([3.5673661], dtype=float32),\n",
              " array([3.534344], dtype=float32),\n",
              " array([3.4874744], dtype=float32)]"
            ]
          },
          "metadata": {
            "tags": []
          },
          "execution_count": 33
        }
      ]
    },
    {
      "cell_type": "code",
      "metadata": {
        "id": "AbGDe2sAIqo4",
        "colab_type": "code",
        "colab": {}
      },
      "source": [
        "pred = list(pred)"
      ],
      "execution_count": 0,
      "outputs": []
    },
    {
      "cell_type": "code",
      "metadata": {
        "id": "YSSmI7DWItsW",
        "colab_type": "code",
        "colab": {
          "base_uri": "https://localhost:8080/",
          "height": 185
        },
        "outputId": "3848dc7b-d93f-49f0-e030-da8431f65391"
      },
      "source": [
        "pred"
      ],
      "execution_count": 35,
      "outputs": [
        {
          "output_type": "execute_result",
          "data": {
            "text/plain": [
              "[array([4.8211975], dtype=float32),\n",
              " array([4.301313], dtype=float32),\n",
              " array([4.066998], dtype=float32),\n",
              " array([3.891535], dtype=float32),\n",
              " array([3.7648766], dtype=float32),\n",
              " array([3.6741605], dtype=float32),\n",
              " array([3.610642], dtype=float32),\n",
              " array([3.5673661], dtype=float32),\n",
              " array([3.534344], dtype=float32),\n",
              " array([3.4874744], dtype=float32)]"
            ]
          },
          "metadata": {
            "tags": []
          },
          "execution_count": 35
        }
      ]
    },
    {
      "cell_type": "code",
      "metadata": {
        "id": "RgvtH-PoIun_",
        "colab_type": "code",
        "colab": {
          "base_uri": "https://localhost:8080/",
          "height": 34
        },
        "outputId": "f648894e-fa59-4a95-ae81-0d4c229d8abd"
      },
      "source": [
        "type(pred)"
      ],
      "execution_count": 36,
      "outputs": [
        {
          "output_type": "execute_result",
          "data": {
            "text/plain": [
              "list"
            ]
          },
          "metadata": {
            "tags": []
          },
          "execution_count": 36
        }
      ]
    },
    {
      "cell_type": "code",
      "metadata": {
        "id": "vOEj0lIhIwbx",
        "colab_type": "code",
        "colab": {
          "base_uri": "https://localhost:8080/",
          "height": 282
        },
        "outputId": "5536134e-3e09-4c9a-ccdf-a362cae0dc1d"
      },
      "source": [
        "plt.plot(pred)"
      ],
      "execution_count": 37,
      "outputs": [
        {
          "output_type": "execute_result",
          "data": {
            "text/plain": [
              "[<matplotlib.lines.Line2D at 0x7f3f4c0f60f0>]"
            ]
          },
          "metadata": {
            "tags": []
          },
          "execution_count": 37
        },
        {
          "output_type": "display_data",
          "data": {
            "image/png": "[encoded data removed]",
            "text/plain": [
              "<Figure size 432x288 with 1 Axes>"
            ]
          },
          "metadata": {
            "tags": []
          }
        }
      ]
    },
    {
      "cell_type": "code",
      "metadata": {
        "id": "tsMJnbS9I2d8",
        "colab_type": "code",
        "colab": {
          "base_uri": "https://localhost:8080/",
          "height": 129
        },
        "outputId": "c542eb73-16d3-4811-e486-49cae76dfdbf"
      },
      "source": [
        "model.predict(np.reshape(dataset[-input_days+i: , :]),(dataset[-input_days+i: , :]).shape[0], dataset[-input_days+i: , :]).shape[1], 1))"
      ],
      "execution_count": 42,
      "outputs": [
        {
          "output_type": "error",
          "ename": "SyntaxError",
          "evalue": "ignored",
          "traceback": [
            "\u001b[0;36m  File \u001b[0;32m\"<ipython-input-42-0f903eb71022>\"\u001b[0;36m, line \u001b[0;32m1\u001b[0m\n\u001b[0;31m    model.predict(np.reshape(dataset[-input_days+i: , :]),(dataset[-input_days+i: , :]).shape[0], dataset[-input_days+i: , :]).shape[1], 1))\u001b[0m\n\u001b[0m                                                                                                                                          ^\u001b[0m\n\u001b[0;31mSyntaxError\u001b[0m\u001b[0;31m:\u001b[0m invalid syntax\n"
          ]
        }
      ]
    },
    {
      "cell_type": "code",
      "metadata": {
        "id": "TDro8G8hJSTN",
        "colab_type": "code",
        "colab": {}
      },
      "source": [
        ""
      ],
      "execution_count": 0,
      "outputs": []
    }
  ]
}